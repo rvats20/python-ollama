{
 "cells": [
  {
   "cell_type": "code",
   "execution_count": null,
   "id": "44ab7cb5-1370-470b-a67f-832aee8115f8",
   "metadata": {},
   "outputs": [],
   "source": [
    "pip install langchain\n",
    "pip install langchain-core\n",
    "pip install langchain-Ollama\n",
    "pip install langchain_community"
   ]
  },
  {
   "cell_type": "markdown",
   "id": "633a16bd-4959-402a-a931-a7adb19a70f9",
   "metadata": {},
   "source": [
    "The very first step is to install the langchain libraries using pip."
   ]
  },
  {
   "cell_type": "markdown",
   "id": "5af6e1ff-ddda-44c4-a7e8-884be30fd4f8",
   "metadata": {},
   "source": [
    "What is langchain?\n",
    "\n",
    "LangChain is a framework designed to simplify the application creation process."
   ]
  },
  {
   "cell_type": "markdown",
   "id": "7b6e218f-61b7-4cf7-b8cd-592409b1b8d7",
   "metadata": {},
   "source": [
    "why use LangChains?\n",
    "\n",
    "it makes replacing compenents easier and help freeying memory, also adds advance capabilites like knowledge integration, etc.\n",
    "\n"
   ]
  },
  {
   "cell_type": "code",
   "execution_count": 1,
   "id": "b3a59e83-5f67-4463-9507-9a98d16c7937",
   "metadata": {},
   "outputs": [],
   "source": [
    "from langchain_core.prompts import ChatPromptTemplate\n",
    "from langchain_ollama.llms import OllamaLLM\n",
    "\n",
    "chat_template = ChatPromptTemplate"
   ]
  }
 ],
 "metadata": {
  "kernelspec": {
   "display_name": "Python 3 (ipykernel)",
   "language": "python",
   "name": "python3"
  },
  "language_info": {
   "codemirror_mode": {
    "name": "ipython",
    "version": 3
   },
   "file_extension": ".py",
   "mimetype": "text/x-python",
   "name": "python",
   "nbconvert_exporter": "python",
   "pygments_lexer": "ipython3",
   "version": "3.11.5"
  }
 },
 "nbformat": 4,
 "nbformat_minor": 5
}
